{
  "nbformat": 4,
  "nbformat_minor": 0,
  "metadata": {
    "colab": {
      "provenance": [],
      "authorship_tag": "ABX9TyMy9qpuwLaXn1sfGaYEQEJr",
      "include_colab_link": true
    },
    "kernelspec": {
      "name": "python3",
      "display_name": "Python 3"
    },
    "language_info": {
      "name": "python"
    }
  },
  "cells": [
    {
      "cell_type": "markdown",
      "metadata": {
        "id": "view-in-github",
        "colab_type": "text"
      },
      "source": [
        "<a href=\"https://colab.research.google.com/github/tekrajbhatta/python-for-data-science/blob/master/LAB03.ipynb\" target=\"_parent\"><img src=\"https://colab.research.google.com/assets/colab-badge.svg\" alt=\"Open In Colab\"/></a>"
      ]
    },
    {
      "cell_type": "markdown",
      "source": [
        "# Chapter 3 Data Structure/Feature Engineering"
      ],
      "metadata": {
        "id": "re1r3N2aHecb"
      }
    },
    {
      "cell_type": "code",
      "source": [
        "college = \"softwarica\"\n",
        "print(college[0])"
      ],
      "metadata": {
        "colab": {
          "base_uri": "https://localhost:8080/"
        },
        "id": "y6juU2iAHmZ1",
        "outputId": "72753df6-f6ac-41ef-884f-b9f245972bfc"
      },
      "execution_count": null,
      "outputs": [
        {
          "output_type": "stream",
          "name": "stdout",
          "text": [
            "s\n"
          ]
        }
      ]
    },
    {
      "cell_type": "code",
      "source": [
        "college[:4]"
      ],
      "metadata": {
        "colab": {
          "base_uri": "https://localhost:8080/",
          "height": 35
        },
        "id": "_K3Gfk6mJT6n",
        "outputId": "3fe38e9f-a408-4904-ac6a-3ee984dbf5b6"
      },
      "execution_count": null,
      "outputs": [
        {
          "output_type": "execute_result",
          "data": {
            "text/plain": [
              "'soft'"
            ],
            "application/vnd.google.colaboratory.intrinsic+json": {
              "type": "string"
            }
          },
          "metadata": {},
          "execution_count": 48
        }
      ]
    },
    {
      "cell_type": "code",
      "source": [
        "college[5:]"
      ],
      "metadata": {
        "colab": {
          "base_uri": "https://localhost:8080/",
          "height": 35
        },
        "id": "EPNCrI5tJqh0",
        "outputId": "42029b22-5b49-46d7-fed0-6a49aa22f81d"
      },
      "execution_count": null,
      "outputs": [
        {
          "output_type": "execute_result",
          "data": {
            "text/plain": [
              "'arica'"
            ],
            "application/vnd.google.colaboratory.intrinsic+json": {
              "type": "string"
            }
          },
          "metadata": {},
          "execution_count": 49
        }
      ]
    },
    {
      "cell_type": "code",
      "source": [
        "college[3:8]"
      ],
      "metadata": {
        "colab": {
          "base_uri": "https://localhost:8080/",
          "height": 35
        },
        "id": "fXhCuaP6KAgC",
        "outputId": "d221c86c-32dc-4020-f752-ea59dc0ed711"
      },
      "execution_count": null,
      "outputs": [
        {
          "output_type": "execute_result",
          "data": {
            "text/plain": [
              "'twari'"
            ],
            "application/vnd.google.colaboratory.intrinsic+json": {
              "type": "string"
            }
          },
          "metadata": {},
          "execution_count": 50
        }
      ]
    },
    {
      "cell_type": "code",
      "source": [
        "university = \"Coventry\"\n",
        "university[-1::-1]"
      ],
      "metadata": {
        "colab": {
          "base_uri": "https://localhost:8080/",
          "height": 35
        },
        "id": "krngY5iGHuzW",
        "outputId": "9fd3516f-5572-4d65-ff5c-7d27967de185"
      },
      "execution_count": null,
      "outputs": [
        {
          "output_type": "execute_result",
          "data": {
            "text/plain": [
              "'yrtnevoC'"
            ],
            "application/vnd.google.colaboratory.intrinsic+json": {
              "type": "string"
            }
          },
          "metadata": {},
          "execution_count": 51
        }
      ]
    },
    {
      "cell_type": "markdown",
      "source": [
        "### Math Operations"
      ],
      "metadata": {
        "id": "ImuixVJTLGcL"
      }
    },
    {
      "cell_type": "code",
      "source": [
        "[1, 5] * 4"
      ],
      "metadata": {
        "colab": {
          "base_uri": "https://localhost:8080/"
        },
        "id": "u3vNcjL3LNA4",
        "outputId": "1781994d-0d59-4727-97b0-982b30380a4d"
      },
      "execution_count": null,
      "outputs": [
        {
          "output_type": "execute_result",
          "data": {
            "text/plain": [
              "[1, 5, 1, 5, 1, 5, 1, 5]"
            ]
          },
          "metadata": {},
          "execution_count": 52
        }
      ]
    },
    {
      "cell_type": "code",
      "source": [
        "num_participants = 10\n",
        "scores = [3] * num_participants\n",
        "scores"
      ],
      "metadata": {
        "colab": {
          "base_uri": "https://localhost:8080/"
        },
        "id": "C9maZry6LPnp",
        "outputId": "5955a2ee-4cc1-47ba-9de7-5b86d6644727"
      },
      "execution_count": null,
      "outputs": [
        {
          "output_type": "execute_result",
          "data": {
            "text/plain": [
              "[3, 3, 3, 3, 3, 3, 3, 3, 3, 3]"
            ]
          },
          "metadata": {},
          "execution_count": 53
        }
      ]
    },
    {
      "cell_type": "markdown",
      "source": [
        "### List"
      ],
      "metadata": {
        "id": "hUAhnUBeMJYe"
      }
    },
    {
      "cell_type": "code",
      "source": [
        "language_list = [\"C\", \"Java\", \"Python\"]\n",
        "print(language_list)"
      ],
      "metadata": {
        "colab": {
          "base_uri": "https://localhost:8080/"
        },
        "id": "zDcyVTKPLXmp",
        "outputId": "fc9be24d-766d-4457-ab13-8a93e362fec0"
      },
      "execution_count": null,
      "outputs": [
        {
          "output_type": "stream",
          "name": "stdout",
          "text": [
            "['C', 'Java', 'Python']\n"
          ]
        }
      ]
    },
    {
      "cell_type": "code",
      "source": [
        "language_list[1]"
      ],
      "metadata": {
        "colab": {
          "base_uri": "https://localhost:8080/",
          "height": 35
        },
        "id": "9ufIoiZgMVbw",
        "outputId": "ba01eeb8-613e-4b5c-be15-31c8837d08aa"
      },
      "execution_count": null,
      "outputs": [
        {
          "output_type": "execute_result",
          "data": {
            "text/plain": [
              "'Java'"
            ],
            "application/vnd.google.colaboratory.intrinsic+json": {
              "type": "string"
            }
          },
          "metadata": {},
          "execution_count": 55
        }
      ]
    },
    {
      "cell_type": "code",
      "source": [
        "language_list[-2]"
      ],
      "metadata": {
        "colab": {
          "base_uri": "https://localhost:8080/",
          "height": 35
        },
        "id": "7qnEtvyJMzUv",
        "outputId": "15fffd1a-8877-4c30-ab7a-b2763d86122d"
      },
      "execution_count": null,
      "outputs": [
        {
          "output_type": "execute_result",
          "data": {
            "text/plain": [
              "'Java'"
            ],
            "application/vnd.google.colaboratory.intrinsic+json": {
              "type": "string"
            }
          },
          "metadata": {},
          "execution_count": 56
        }
      ]
    },
    {
      "cell_type": "markdown",
      "source": [
        "### String to list conversion"
      ],
      "metadata": {
        "id": "VcXxPDkdN882"
      }
    },
    {
      "cell_type": "code",
      "source": [
        "university_name = \"Coventry University\"\n",
        "letters = list(university_name)\n",
        "letters"
      ],
      "metadata": {
        "colab": {
          "base_uri": "https://localhost:8080/"
        },
        "id": "jUGxclyqM03q",
        "outputId": "e332b92e-378e-41d3-e70b-8ee85763c9ee"
      },
      "execution_count": null,
      "outputs": [
        {
          "output_type": "execute_result",
          "data": {
            "text/plain": [
              "['C',\n",
              " 'o',\n",
              " 'v',\n",
              " 'e',\n",
              " 'n',\n",
              " 't',\n",
              " 'r',\n",
              " 'y',\n",
              " ' ',\n",
              " 'U',\n",
              " 'n',\n",
              " 'i',\n",
              " 'v',\n",
              " 'e',\n",
              " 'r',\n",
              " 's',\n",
              " 'i',\n",
              " 't',\n",
              " 'y']"
            ]
          },
          "metadata": {},
          "execution_count": 57
        }
      ]
    },
    {
      "cell_type": "markdown",
      "source": [
        "### Appending and Inserting List Items"
      ],
      "metadata": {
        "id": "Zbg3dBxrPB8z"
      }
    },
    {
      "cell_type": "code",
      "source": [
        "books = ['The Great Gatsby', '1984']\n",
        "books"
      ],
      "metadata": {
        "colab": {
          "base_uri": "https://localhost:8080/"
        },
        "id": "t7AhGG2iOPg3",
        "outputId": "42aac54c-9db5-4fe4-ffe1-3be5ce1967fb"
      },
      "execution_count": null,
      "outputs": [
        {
          "output_type": "execute_result",
          "data": {
            "text/plain": [
              "['The Great Gatsby', '1984']"
            ]
          },
          "metadata": {},
          "execution_count": 58
        }
      ]
    },
    {
      "cell_type": "code",
      "source": [
        "books.insert(0, 'Pride and Prejustice')\n",
        "books"
      ],
      "metadata": {
        "colab": {
          "base_uri": "https://localhost:8080/"
        },
        "id": "lpuGY4eBPRnq",
        "outputId": "8a772af9-e9ac-48b2-b68f-d823760c665e"
      },
      "execution_count": null,
      "outputs": [
        {
          "output_type": "execute_result",
          "data": {
            "text/plain": [
              "['Pride and Prejustice', 'The Great Gatsby', '1984']"
            ]
          },
          "metadata": {},
          "execution_count": 59
        }
      ]
    },
    {
      "cell_type": "code",
      "source": [
        "books.append('To Kill a Mockingbird')\n",
        "books"
      ],
      "metadata": {
        "colab": {
          "base_uri": "https://localhost:8080/"
        },
        "id": "qnkzjE1fPcgs",
        "outputId": "07fdbd5e-e7a2-4edc-aaef-4f5e7f1390d5"
      },
      "execution_count": null,
      "outputs": [
        {
          "output_type": "execute_result",
          "data": {
            "text/plain": [
              "['Pride and Prejustice', 'The Great Gatsby', '1984', 'To Kill a Mockingbird']"
            ]
          },
          "metadata": {},
          "execution_count": 60
        }
      ]
    },
    {
      "cell_type": "code",
      "source": [
        "last_book = books.pop()\n",
        "print(last_book)\n",
        "print(books)"
      ],
      "metadata": {
        "colab": {
          "base_uri": "https://localhost:8080/"
        },
        "id": "f0s9I__zQREQ",
        "outputId": "95b412c2-6a9f-402c-a0d3-3c451c344ce5"
      },
      "execution_count": null,
      "outputs": [
        {
          "output_type": "stream",
          "name": "stdout",
          "text": [
            "To Kill a Mockingbird\n",
            "['Pride and Prejustice', 'The Great Gatsby', '1984']\n"
          ]
        }
      ]
    },
    {
      "cell_type": "code",
      "source": [
        "first_book = books.pop(0)\n",
        "print(first_book)\n",
        "print(books)"
      ],
      "metadata": {
        "colab": {
          "base_uri": "https://localhost:8080/"
        },
        "id": "8ycwMn8NQchZ",
        "outputId": "dfeabe17-5ccc-4f19-b2ee-bab1d406b3cb"
      },
      "execution_count": null,
      "outputs": [
        {
          "output_type": "stream",
          "name": "stdout",
          "text": [
            "Pride and Prejustice\n",
            "['The Great Gatsby', '1984']\n"
          ]
        }
      ]
    },
    {
      "cell_type": "code",
      "source": [
        "myBooks = [\"Mybook1\", \"Mybook2\", \"Mybook3\"]\n",
        "newBooks = [\"Newbook1\", 'Newbook2']\n",
        "myBooks.extend(newBooks)\n",
        "myBooks"
      ],
      "metadata": {
        "id": "oqubmoq6Qt3Z",
        "colab": {
          "base_uri": "https://localhost:8080/"
        },
        "outputId": "bfd7bfa1-350a-4674-dccb-508200eb1c85"
      },
      "execution_count": null,
      "outputs": [
        {
          "output_type": "execute_result",
          "data": {
            "text/plain": [
              "['Mybook1', 'Mybook2', 'Mybook3', 'Newbook1', 'Newbook2']"
            ]
          },
          "metadata": {},
          "execution_count": 65
        }
      ]
    },
    {
      "cell_type": "markdown",
      "source": [
        "### Sorting Lists"
      ],
      "metadata": {
        "id": "-nxxCBwPS1zx"
      }
    },
    {
      "cell_type": "code",
      "source": [
        "name = \"Coventry\"\n",
        "letters = list(name)\n",
        "print(letters)\n",
        "\n",
        "letters.sort()\n",
        "print(letters)\n",
        "\n",
        "letters.reverse()\n",
        "print(letters)"
      ],
      "metadata": {
        "colab": {
          "base_uri": "https://localhost:8080/"
        },
        "id": "X18ftYKDR2Jz",
        "outputId": "c658fa77-eed8-4e4d-dcd7-e51d2d85172a"
      },
      "execution_count": null,
      "outputs": [
        {
          "output_type": "stream",
          "name": "stdout",
          "text": [
            "['C', 'o', 'v', 'e', 'n', 't', 'r', 'y']\n",
            "['C', 'e', 'n', 'o', 'r', 't', 'v', 'y']\n",
            "['y', 'v', 't', 'r', 'o', 'n', 'e', 'C']\n"
          ]
        }
      ]
    },
    {
      "cell_type": "markdown",
      "source": [
        "### Ranges"
      ],
      "metadata": {
        "id": "IvP9Su1zTlge"
      }
    },
    {
      "cell_type": "code",
      "source": [
        "my_range = range(0,10)\n",
        "print(my_range)\n",
        "print(list(range(0, 10)))\n",
        "print(list(range(0, 10, 2)))"
      ],
      "metadata": {
        "colab": {
          "base_uri": "https://localhost:8080/"
        },
        "id": "kyxTNPdPTFrW",
        "outputId": "c0694be0-635d-483f-d5ac-decb497da2c8"
      },
      "execution_count": null,
      "outputs": [
        {
          "output_type": "stream",
          "name": "stdout",
          "text": [
            "range(0, 10)\n",
            "[0, 1, 2, 3, 4, 5, 6, 7, 8, 9]\n",
            "[0, 2, 4, 6, 8]\n"
          ]
        }
      ]
    },
    {
      "cell_type": "code",
      "source": [],
      "metadata": {
        "id": "dC8PHxbyT8uX"
      },
      "execution_count": null,
      "outputs": []
    }
  ]
}